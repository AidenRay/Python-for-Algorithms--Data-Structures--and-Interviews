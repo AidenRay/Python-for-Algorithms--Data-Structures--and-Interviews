{
 "cells": [
  {
   "cell_type": "markdown",
   "metadata": {},
   "source": [
    "# Implement a Queue - Using Two Stacks\n",
    "Given the Stack class below, implement a Queue class using two stacks! Note, this is a \"classic\" interview problem. Use a Python list data structure as your Stack."
   ]
  },
  {
   "cell_type": "code",
   "execution_count": 1,
   "metadata": {},
   "outputs": [],
   "source": [
    "# Uses lists instead of your own Stack class.\n",
    "stack1 = []\n",
    "stack2 = []"
   ]
  },
  {
   "cell_type": "markdown",
   "metadata": {},
   "source": [
    "## Solution\n",
    "Fill out your solution below:"
   ]
  },
  {
   "cell_type": "code",
   "execution_count": 13,
   "metadata": {},
   "outputs": [],
   "source": [
    "class Queue2Stacks(object):\n",
    "    \n",
    "    def __init__(self):\n",
    "        \n",
    "        # Two Stacks\n",
    "        self._s1 = []\n",
    "        self._s2 = []\n",
    "        self._front = self._s1\n",
    "     \n",
    "    def enqueue(self,item):\n",
    "        if self._front == []:\n",
    "            self._front.append(item)\n",
    "        elif self._front == self._s1:\n",
    "            self._s2.append(item)\n",
    "        else:\n",
    "            self._s1.append(item)\n",
    "\n",
    "    \n",
    "    def dequeue(self):\n",
    "        if self._front == []:\n",
    "            return [] \n",
    "        elif self._front == self._s1:\n",
    "            n = len(self._s2)\n",
    "            val = self._front.pop()\n",
    "            for i in range(n - 1):\n",
    "                self._s1.append(self._s2.pop())\n",
    "            self._front = self._s2\n",
    "        elif self._front == self._s2:\n",
    "            n = len(self._s1)\n",
    "            val = self._front.pop()\n",
    "            for i in range(n - 1):\n",
    "                self._s2.append(self._s1.pop())\n",
    "            self._front = self._s1\n",
    "        return val"
   ]
  },
  {
   "cell_type": "markdown",
   "metadata": {},
   "source": [
    "# Test Your Solution\n",
    "You should be able to tell with your current knowledge of Stacks and Queues if this is working as it should. For example, the following should print as such:"
   ]
  },
  {
   "cell_type": "code",
   "execution_count": 14,
   "metadata": {},
   "outputs": [
    {
     "name": "stdout",
     "output_type": "stream",
     "text": [
      "0\n",
      "1\n",
      "4\n",
      "2\n",
      "3\n"
     ]
    }
   ],
   "source": [
    "\"\"\"\n",
    "RUN THIS CELL TO CHECK THAT YOUR SOLUTION OUTPUT MAKES SENSE AND BEHAVES AS A QUEUE\n",
    "\"\"\"\n",
    "q = Queue2Stacks()\n",
    "\n",
    "for i in range(5):\n",
    "    q.enqueue(i)\n",
    "    \n",
    "for i in range(5):\n",
    "    print(q.dequeue())"
   ]
  },
  {
   "cell_type": "code",
   "execution_count": null,
   "metadata": {},
   "outputs": [],
   "source": []
  }
 ],
 "metadata": {
  "kernelspec": {
   "display_name": "Python 3",
   "language": "python",
   "name": "python3"
  },
  "language_info": {
   "codemirror_mode": {
    "name": "ipython",
    "version": 3
   },
   "file_extension": ".py",
   "mimetype": "text/x-python",
   "name": "python",
   "nbconvert_exporter": "python",
   "pygments_lexer": "ipython3",
   "version": "3.7.2"
  }
 },
 "nbformat": 4,
 "nbformat_minor": 2
}
